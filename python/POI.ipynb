{
 "cells": [
  {
   "cell_type": "markdown",
   "id": "039a9575-69eb-41c9-9db1-2588ec9b21d3",
   "metadata": {},
   "source": [
    "# POI DATA processing"
   ]
  },
  {
   "cell_type": "code",
   "execution_count": 2,
   "id": "0854ff1e-3c93-4bce-807b-62abca23a579",
   "metadata": {},
   "outputs": [],
   "source": [
    "import pandas as pd"
   ]
  },
  {
   "cell_type": "code",
   "execution_count": null,
   "id": "5a99efce-2d90-4586-957a-0324c5636ffc",
   "metadata": {
    "scrolled": true
   },
   "outputs": [
    {
     "name": "stdout",
     "output_type": "stream",
     "text": [
      "Index(['id', 'name', 'address', 'type', 'typecode', 'pcode', 'pname',\n",
      "       'citycode', 'cityname', 'adcode', 'adname', 'business_area', 'location',\n",
      "       'tel', 'bigType', 'midType', 'smallType', 'gcj_lng', 'gcj_lat',\n",
      "       'wgs84_loc', 'wgs84Lng', 'wgs84Lat', 'geometry'],\n",
      "      dtype='object')\n"
     ]
    }
   ],
   "source": [
    "# read POI data\n",
    "df = pd.read_csv(\"shanghai_yangpu.csv\")  \n",
    "\n",
    "# Preview listings\n",
    "print(df.columns)\n",
    "\n",
    "# Note: The POI data used in this code contains Chinese characters, so some variable names or data content will appear in Chinese.\n",
    "# To facilitate understanding, I have used English comments at the corresponding locations."
   ]
  },
  {
   "cell_type": "code",
   "execution_count": 5,
   "id": "4de1ce3a-1560-4468-a72c-934fcda2a819",
   "metadata": {},
   "outputs": [],
   "source": [
    "import geopandas as gpd\n",
    "from shapely.geometry import Point"
   ]
  },
  {
   "cell_type": "code",
   "execution_count": null,
   "id": "ee410e99-d5f1-44be-a64e-7727c4507e52",
   "metadata": {},
   "outputs": [],
   "source": [
    "#   Creating geometry fields\n",
    "df = df.dropna(subset=['wgs84Lng', 'wgs84Lat'])  # Remove data with null coordinates\n",
    "geometry = [Point(xy) for xy in zip(df['wgs84Lng'], df['wgs84Lat'])]\n",
    "gdf = gpd.GeoDataFrame(df, geometry=geometry, crs='EPSG:4326')"
   ]
  },
  {
   "cell_type": "code",
   "execution_count": null,
   "id": "6099a6fa-1077-4b36-95f6-6df8fdf1d052",
   "metadata": {},
   "outputs": [
    {
     "name": "stdout",
     "output_type": "stream",
     "text": [
      "            id                   name                  address  \\\n",
      "0   B00155QWTP   上海农商银行24小时自助银行(杨浦支行)       黄兴路1599号新纪元国际广场F1层   \n",
      "4   B0FFJ8YQ6I              华联超市(四平店)  国年路95号(国权路地铁站4号口步行380米)   \n",
      "29  B0FFFFPRND  LaBamba拉芭玛墨西哥餐吧(五角场店)       国定路333号3号湾广场2层223号   \n",
      "49  B0FFH181L1          日本料理(同济联合广场店)          彰武路42号同济联合广场F2层   \n",
      "55  B0JDPDWSZ1              东隧道股份有限公司                 辽源西路114号   \n",
      "\n",
      "                      type typecode   pcode pname  citycode cityname  adcode  \\\n",
      "0   金融保险服务;自动提款机;上海农商银行ATM   160347  310000   上海市        21      上海市  310110   \n",
      "4           购物服务;超级市场;上海华联   060405  310000   上海市        21      上海市  310110   \n",
      "29          餐饮服务;外国餐厅;墨西哥菜   050216  310000   上海市        21      上海市  310110   \n",
      "49            餐饮服务;中餐厅;中餐厅   050100  310000   上海市        21      上海市  310110   \n",
      "55              公司企业;公司;公司   170200  310000   上海市        21      上海市  310110   \n",
      "\n",
      "    ...           tel bigType midType  smallType     gcj_lng    gcj_lat  \\\n",
      "0   ...            []  金融保险服务   自动提款机  上海农商银行ATM  121.521245  31.286924   \n",
      "4   ...            []    购物服务    超级市场       上海华联  121.508662  31.291923   \n",
      "29  ...  021-55958085    餐饮服务    外国餐厅       墨西哥菜  121.509184  31.296406   \n",
      "49  ...            []    餐饮服务     中餐厅        中餐厅  121.507773  31.281595   \n",
      "55  ...            []    公司企业      公司         公司  121.512333  31.268932   \n",
      "\n",
      "               wgs84_loc    wgs84Lng   wgs84Lat                      geometry  \n",
      "0   121.516884,31.288981  121.516884  31.288981  POINT (121.516884 31.288981)  \n",
      "4   121.504257,31.293941  121.504257  31.293941  POINT (121.504257 31.293941)  \n",
      "29   121.50478,31.298424  121.504780  31.298424   POINT (121.50478 31.298424)  \n",
      "49  121.503365,31.283615  121.503365  31.283615  POINT (121.503365 31.283615)  \n",
      "55  121.507943,31.270971  121.507943  31.270971  POINT (121.507943 31.270971)  \n",
      "\n",
      "[5 rows x 23 columns]\n",
      "共提取 4392 条四平路街道POI记录\n"
     ]
    }
   ],
   "source": [
    "#  DataFrame is df or gdf\n",
    "df_siping = df[df['business_area'].str.contains('四平路', na=False) | df['adname'].str.contains('四平路', na=False)]  # The English word for 四平路 is Sipinglu Street.\n",
    "\n",
    "# View the first few lines of the extraction result\n",
    "print(df_siping.head())\n",
    "print(f\"共提取 {len(df_siping)} 条四平路街道POI记录\") # print(f ‘A total of {len(df_siping)} Sipinglu  Street POI records were extracted’) "
   ]
  },
  {
   "cell_type": "markdown",
   "id": "4bcb810c",
   "metadata": {},
   "source": [
    "Total 4392 Sipinglu Street POI records have been retrieved."
   ]
  },
  {
   "cell_type": "code",
   "execution_count": 9,
   "id": "58c0e09b-a874-4c6b-8561-3a75344857e2",
   "metadata": {},
   "outputs": [],
   "source": [
    "df_siping.to_csv(\"siping_poi.csv\", index=False)"
   ]
  },
  {
   "cell_type": "code",
   "execution_count": null,
   "id": "7ce3628a-a358-4708-b685-dccab896e382",
   "metadata": {},
   "outputs": [],
   "source": [
    "# Six Function Mapping Dictionary\n",
    "function_map = {\n",
    "    '商业住宅': '居住', #  'Commercial Residential': 'Habitation', \n",
    "    '公司企业': '就业', #  'Corporate Enterprises': 'Employment', \n",
    "    '科教文化服务': '教育', #  'Scientific, Educational and Cultural Services': 'Education', \n",
    "    '餐饮服务': '商业', #  'Food and Beverage Services': 'Commerce', \n",
    "    '购物服务': '商业', #  'Shopping Services': 'Commerce', \n",
    "    '生活服务': '商业', #  'Amenity Services': 'Commerce', \n",
    "    '金融保险服务': '商业', # 'Financial and Insurance Services': 'Commerce', \n",
    "    '风景名胜': '休闲娱乐', #  'Scenic Spots': 'Recreation', \n",
    "    '体育休闲服务': '休闲娱乐', #  'Sports and Recreation Services': 'Recreation', \n",
    "    '住宿服务': '休闲娱乐', #  'Accommodation Services': 'Recreation ', \n",
    "    '公共设施': '休闲娱乐', # 'Public Facilities': 'Recreation', \n",
    "    '医疗保险服务': '医疗', # 'Health Insurance Services': 'Healthcare', \n",
    "    '政府机构以及社会团体': '就业', #  'Government Institutions as well as Social Organisations': 'Employment', \n",
    "    '交通设施服务': '交通设施', #  'Transportation Facilities Services': 'Transportation Facilities', \n",
    "    '摩托车服务': '商业', #  'Motorcycle Services': 'Commerce', \n",
    "    '汽车服务': '商业', #  'Automobile Services': 'Commerce', \n",
    "    '汽车维修': '商业', #  'Automobile Repair': 'Commerce', \n",
    "    '汽车销售': '商业', #  'Automobile Sales': 'Commerce', \n",
    "    '通行设施': '通行设施', #  'Access Facilities ': 'Access Facilities', \n",
    "    '地名地址信息': '其他', #  ' Place Name Address Information': ‘Other’,'\n",
    "}"
   ]
  },
  {
   "cell_type": "code",
   "execution_count": null,
   "id": "ebebcd96-d6fb-41d7-aec1-0a8e4648adf8",
   "metadata": {},
   "outputs": [
    {
     "name": "stderr",
     "output_type": "stream",
     "text": [
      "/tmp/ipykernel_22068/356781504.py:2: SettingWithCopyWarning: \n",
      "A value is trying to be set on a copy of a slice from a DataFrame.\n",
      "Try using .loc[row_indexer,col_indexer] = value instead\n",
      "\n",
      "See the caveats in the documentation: https://pandas.pydata.org/pandas-docs/stable/user_guide/indexing.html#returning-a-view-versus-a-copy\n",
      "  df_siping['function_type'] = df_siping['bigType'].map(function_map)\n"
     ]
    }
   ],
   "source": [
    "# Add a new column function_type to sort by bigType\n",
    "df_siping['function_type'] = df_siping['bigType'].map(function_map)"
   ]
  },
  {
   "cell_type": "code",
   "execution_count": null,
   "id": "de897fa0-4888-4d9d-9a04-466e402b0c4f",
   "metadata": {},
   "outputs": [
    {
     "name": "stdout",
     "output_type": "stream",
     "text": [
      "function_type\n",
      "商业      1409\n",
      "其他      1133\n",
      "NaN      496\n",
      "教育       355\n",
      "就业       302\n",
      "交通设施     262\n",
      "通行设施     218\n",
      "休闲娱乐     217\n",
      "Name: count, dtype: int64\n"
     ]
    }
   ],
   "source": [
    "# Check the number of POIs for each feature type\n",
    "print(df_siping['function_type'].value_counts(dropna=False))"
   ]
  },
  {
   "cell_type": "markdown",
   "id": "ed925868",
   "metadata": {},
   "source": [
    "function_type \n",
    "Commerce 1409 \n",
    "Other 1133 \n",
    "NaN 496 \n",
    "Education 355 \n",
    "Employment 302 \n",
    "Transport 262 \n",
    "Access 218 \n",
    "Recreation 217 \n",
    "Name: count, dtype: int64"
   ]
  },
  {
   "cell_type": "code",
   "execution_count": null,
   "id": "6cf9fc8b-5220-4997-9eb2-4dbfb4d995d8",
   "metadata": {},
   "outputs": [
    {
     "name": "stdout",
     "output_type": "stream",
     "text": [
      "['医疗保健服务' '商务住宅' '政府机构及社会团体']\n"
     ]
    }
   ],
   "source": [
    "# Check the bigType value of a record with a function_type of NaN.\n",
    "unmapped_types = df_siping[df_siping['function_type'].isna()]['bigType'].unique()\n",
    "print(unmapped_types)"
   ]
  },
  {
   "cell_type": "markdown",
   "id": "364747cb",
   "metadata": {},
   "source": [
    "[“Healthcare services” 'Business residential' “Government agencies and social organisations”]"
   ]
  },
  {
   "cell_type": "code",
   "execution_count": null,
   "id": "d7576d94-974e-48ba-a0b2-dad0ee68941e",
   "metadata": {},
   "outputs": [],
   "source": [
    "function_map.update({\n",
    "    '医疗保健服务': '医疗', # 'Healthcare Services': 'Healthcare', \n",
    "    '商务住宅': '居住', #  'Business Residential': 'Habitation', \n",
    "    '政府机构及社会团体': '就业' # 'Government Institutions & Social Organisations': 'Employment'\n",
    "})"
   ]
  },
  {
   "cell_type": "code",
   "execution_count": 15,
   "id": "81464c98-bbd7-4596-a7eb-e587ea8de617",
   "metadata": {},
   "outputs": [
    {
     "name": "stderr",
     "output_type": "stream",
     "text": [
      "/tmp/ipykernel_22068/1804067459.py:1: SettingWithCopyWarning: \n",
      "A value is trying to be set on a copy of a slice from a DataFrame.\n",
      "Try using .loc[row_indexer,col_indexer] = value instead\n",
      "\n",
      "See the caveats in the documentation: https://pandas.pydata.org/pandas-docs/stable/user_guide/indexing.html#returning-a-view-versus-a-copy\n",
      "  df_siping['function_type'] = df_siping['bigType'].map(function_map)\n"
     ]
    }
   ],
   "source": [
    "df_siping['function_type'] = df_siping['bigType'].map(function_map)"
   ]
  },
  {
   "cell_type": "code",
   "execution_count": 16,
   "id": "52860c69-4f26-4a94-bb78-d1a67e52e6e4",
   "metadata": {},
   "outputs": [
    {
     "name": "stdout",
     "output_type": "stream",
     "text": [
      "0\n"
     ]
    }
   ],
   "source": [
    "print(df_siping['function_type'].isna().sum())"
   ]
  },
  {
   "cell_type": "code",
   "execution_count": null,
   "id": "e89d9d6c-b4ed-451f-8019-09eb0aff8313",
   "metadata": {},
   "outputs": [],
   "source": [
    "# Count the number of POIs for each feature type\n",
    "function_counts = df_siping['function_type'].value_counts()"
   ]
  },
  {
   "cell_type": "code",
   "execution_count": null,
   "id": "677407ee-8e67-4b91-a1d6-67da8e5b94c8",
   "metadata": {},
   "outputs": [
    {
     "name": "stdout",
     "output_type": "stream",
     "text": [
      "function_type\n",
      "商业      1409\n",
      "其他      1133\n",
      "就业       439\n",
      "教育       355\n",
      "交通设施     262\n",
      "居住       252\n",
      "通行设施     218\n",
      "休闲娱乐     217\n",
      "医疗       107\n",
      "Name: count, dtype: int64\n"
     ]
    }
   ],
   "source": [
    "# Print results\n",
    "print(function_counts)"
   ]
  },
  {
   "cell_type": "markdown",
   "id": "22603b77",
   "metadata": {},
   "source": [
    "function_type \n",
    "Commerce 1409 \n",
    "Other 1133 \n",
    "Employment 439 \n",
    "Education 355 \n",
    "Transport 262 \n",
    "Habitation 252 \n",
    "Access 218 \n",
    "Recreation 217 \n",
    "Healthcare 107 \n",
    "Name: count, dtype: int64"
   ]
  },
  {
   "cell_type": "code",
   "execution_count": null,
   "id": "3f13f695-eef3-464d-8b8a-91736fec8d63",
   "metadata": {},
   "outputs": [
    {
     "name": "stdout",
     "output_type": "stream",
     "text": [
      "居住 导出为: poi_by_function/siping_居住.csv\n",
      "就业 导出为: poi_by_function/siping_就业.csv\n",
      "商业 导出为: poi_by_function/siping_商业.csv\n",
      "医疗 导出为: poi_by_function/siping_医疗.csv\n",
      "教育 导出为: poi_by_function/siping_教育.csv\n",
      "休闲娱乐 导出为: poi_by_function/siping_休闲娱乐.csv\n"
     ]
    }
   ],
   "source": [
    "import os\n",
    "\n",
    "# Six Function Types\n",
    "function_types = ['居住', '就业', '商业', '医疗', '教育', '休闲娱乐'] # [‘Habitation’, ‘Employment’, ‘Commerce’, ‘Healthcare’, ‘Education’, ‘Recreation’]\n",
    "\n",
    "# Creating an export directory\n",
    "output_dir = \"poi_by_function\"\n",
    "os.makedirs(output_dir, exist_ok=True)\n",
    "\n",
    "# Export each type of function as a separate file\n",
    "for ftype in function_types:\n",
    "    subset = df_siping[df_siping[\"function_type\"] == ftype]\n",
    "    file_path = os.path.join(output_dir, f\"siping_{ftype}.csv\")\n",
    "    subset.to_csv(file_path, index=False)\n",
    "    print(f\"{ftype} 导出为: {file_path}\") # print(f‘{ftype} Export as: {file_path}’)"
   ]
  },
  {
   "cell_type": "markdown",
   "id": "5e83a31c",
   "metadata": {},
   "source": [
    "Habitation Export as: poi_by_function/siping_Habitation.csv \n",
    "Employment Export as: poi_by_function/siping_Employment.csv \n",
    "Commerce Export as: poi_by_function/siping_Commerce.csv \n",
    "Healthcare Export as: poi_by_function/ siping_Healthcare.csv \n",
    "Education Export as: poi_by_function/siping_Education.csv \n",
    "Recreation Export as: poi_by_function/siping_Recreation.csv"
   ]
  },
  {
   "cell_type": "code",
   "execution_count": null,
   "id": "ce7e6ac2-0d0d-4d0a-ab20-601493576759",
   "metadata": {},
   "outputs": [
    {
     "name": "stdout",
     "output_type": "stream",
     "text": [
      "交通设施 导出为: poi_by_function/siping_交通设施.csv\n",
      "通行设施 导出为: poi_by_function/siping_通行设施.csv\n",
      "其他 导出为: poi_by_function/siping_其他.csv\n"
     ]
    }
   ],
   "source": [
    "# Category of features to be additionally exported\n",
    "extra_function_types = ['交通设施', '通行设施', '其他'] # [“Transport facilities”, “Access facilities”, “Other”]\n",
    "\n",
    "# Make sure the output directory still exists\n",
    "output_dir = \"poi_by_function\"\n",
    "\n",
    "# Export each type of function as a separate file\n",
    "for ftype in extra_function_types:\n",
    "    subset = df_siping[df_siping[\"function_type\"] == ftype]\n",
    "    file_path = os.path.join(output_dir, f\"siping_{ftype}.csv\")\n",
    "    subset.to_csv(file_path, index=False)\n",
    "    print(f\"{ftype} 导出为: {file_path}\") # print(f‘{ftype} Export as: {file_path}’)"
   ]
  },
  {
   "cell_type": "markdown",
   "id": "6709642f",
   "metadata": {},
   "source": [
    "Transport facilities Exported as: poi_by_function/siping_transport_facilities.csv \n",
    "Passage facilities Exported as: poi_by_function/siping_passage_facilities.csv \n",
    "Other Exported as: poi_by_function/siping_other.csv"
   ]
  },
  {
   "cell_type": "code",
   "execution_count": null,
   "id": "7a1270a0-2023-4c3a-8ed8-7d3a835533b1",
   "metadata": {},
   "outputs": [
    {
     "name": "stdout",
     "output_type": "stream",
     "text": [
      "✅ 已导出: geojson_by_function/siping_商业.geojson\n",
      "✅ 已导出: geojson_by_function/siping_就业.geojson\n",
      "✅ 已导出: geojson_by_function/siping_医疗.geojson\n",
      "✅ 已导出: geojson_by_function/siping_教育.geojson\n",
      "✅ 已导出: geojson_by_function/siping_休闲娱乐.geojson\n",
      "✅ 已导出: geojson_by_function/siping_居住.geojson\n",
      "✅ 已导出: geojson_by_function/siping_交通设施.geojson\n",
      "✅ 已导出: geojson_by_function/siping_其他.geojson\n",
      "✅ 已导出: geojson_by_function/siping_通行设施.geojson\n"
     ]
    }
   ],
   "source": [
    "import geopandas as gpd\n",
    "from shapely.geometry import Point\n",
    "import os\n",
    "\n",
    "# Setting the save path\n",
    "geojson_output_dir = \"geojson_by_function\"\n",
    "os.makedirs(geojson_output_dir, exist_ok=True)\n",
    "\n",
    "# Make sure you're using the Four Flat Streets subset\n",
    "df = df_siping.copy()\n",
    "\n",
    "# Generate geometry columns with gcj coordinates (gcj_lng for longitude, gcj_lat for latitude)\n",
    "df[\"geometry\"] = df.apply(lambda row: Point(row[\"gcj_lng\"], row[\"gcj_lat\"]), axis=1)\n",
    "\n",
    "# Convert to GeoDataFrame, set geographic coordinate system to WGS 84\n",
    "gdf = gpd.GeoDataFrame(df, geometry=\"geometry\", crs=\"EPSG:4326\")\n",
    "\n",
    "# Get list of function types (remove nulls)\n",
    "function_types = gdf[\"function_type\"].dropna().unique()\n",
    "\n",
    "# Export respective GeoJSON files by function type\n",
    "for ftype in function_types:\n",
    "    subset = gdf[gdf[\"function_type\"] == ftype]\n",
    "    safe_name = ftype.replace(\"/\", \"_\").replace(\" \", \"_\")\n",
    "    filepath = os.path.join(geojson_output_dir, f\"siping_{safe_name}.geojson\")\n",
    "    subset.to_file(filepath, driver=\"GeoJSON\")\n",
    "    print(f\"✅ 已导出: {filepath}\") #  print(f‘✅ Exported: {filepath}’)"
   ]
  },
  {
   "cell_type": "markdown",
   "id": "0821d0f4",
   "metadata": {},
   "source": [
    "✅ Exported: geojson_by_function/siping_Commerce.geojson \n",
    "✅ Exported: geojson_by_function/siping_Employment.geojson \n",
    "✅ Exported: geojson_by_function/siping_Healthcare.geojson \n",
    "✅ Exported : geojson_by_function/siping_Education.geojson \n",
    "✅ Exported: geojson_by_function/siping_Recreation.geojson \n",
    "✅ Exported: geojson_by_function/siping_Residence.geojson \n",
    "✅ Exported. geojson_by_function/siping_transport_facilities.geojson \n",
    "✅ Exported: geojson_by_function/siping_other.geojson \n",
    "✅ Exported: geojson_by_function/siping_access_facilities.geojson"
   ]
  },
  {
   "cell_type": "markdown",
   "id": "3b90625f-65a9-4c52-927e-a474a30fdc4d",
   "metadata": {},
   "source": [
    "# Make Number of Facilities by Function Type in Siping Subdistrict.png"
   ]
  },
  {
   "cell_type": "code",
   "execution_count": null,
   "id": "d71f6413-6400-4d2e-afc4-08de289dcb32",
   "metadata": {},
   "outputs": [],
   "source": [
    "# Creating a Chinese-English Dictionary\n",
    "translate_dict = {\n",
    "    '居住': 'Habitation',\n",
    "    '就业': 'Employment',\n",
    "    '商业': 'Commerce',\n",
    "    '医疗': 'Healthcare',\n",
    "    '教育': 'Education',\n",
    "    '休闲娱乐': 'Recreation',\n",
    "}\n",
    "\n",
    "# Replace function_type with English\n",
    "df['function_type_en'] = df['function_type'].map(translate_dict)"
   ]
  },
  {
   "cell_type": "code",
   "execution_count": null,
   "id": "5dc232cc-cbc1-4efd-a78f-85cbb5594b5d",
   "metadata": {},
   "outputs": [
    {
     "name": "stderr",
     "output_type": "stream",
     "text": [
      "/tmp/ipykernel_22068/1177724532.py:22: FutureWarning: \n",
      "\n",
      "Passing `palette` without assigning `hue` is deprecated and will be removed in v0.14.0. Assign the `x` variable to `hue` and set `legend=False` for the same effect.\n",
      "\n",
      "  sns.countplot(\n"
     ]
    },
    {
     "data": {
      "image/png": "[encoded data removed]",
      "text/plain": [
       "<Figure size 1000x600 with 1 Axes>"
      ]
     },
     "metadata": {},
     "output_type": "display_data"
    }
   ],
   "source": [
    "import matplotlib.pyplot as plt\n",
    "import seaborn as sns\n",
    "\n",
    "# Define the categories to be excluded\n",
    "exclude_types_en = ['Transport Facility', 'Passage Facility', 'Others']\n",
    "\n",
    "# Filtering: retaining only the six core functional types\n",
    "df_filtered = df[~df['function_type_en'].isin(exclude_types_en)]\n",
    "\n",
    "# Setting the style\n",
    "morandi_distinct_palette = [\n",
    "    '#406BBC',  \n",
    "    '#EB8445',  \n",
    "    '#A6A056',  \n",
    "    '#F7C767',  \n",
    "    '#9CBCC6',  \n",
    "    '#A4485E'   \n",
    "]\n",
    "\n",
    "# Settings Histogram\n",
    "fig = plt.figure(figsize=(10, 6))\n",
    "sns.countplot(\n",
    "    data=df,\n",
    "    x='function_type_en',\n",
    "    order=df['function_type_en'].value_counts().index,\n",
    "    palette=morandi_distinct_palette[:6]\n",
    ")\n",
    "plt.title(\"Number of Facilities by Function Type in Siping Subdistrict\", fontsize=14)\n",
    "plt.xlabel(\"Function Type\")\n",
    "plt.ylabel(\"Count\")\n",
    "plt.xticks(rotation=30)\n",
    "plt.tight_layout()\n",
    "# Save image\n",
    "fig.canvas.draw()\n",
    "plt.savefig(\"Number of Facilities by Function Type in Siping Subdistrict.png\", dpi=300)\n",
    "\n",
    "plt.show()"
   ]
  },
  {
   "cell_type": "markdown",
   "id": "e45d04b3-e9f5-4d55-aed2-4d2abec54eda",
   "metadata": {},
   "source": [
    "# Make six facility maps"
   ]
  },
  {
   "cell_type": "code",
   "execution_count": 52,
   "id": "8a30d683-03e2-4bae-86e9-be9da8d3289e",
   "metadata": {},
   "outputs": [],
   "source": [
    "import pandas as pd\n",
    "import matplotlib.pyplot as plt\n",
    "import contextily as ctx\n",
    "import geopandas as gpd\n",
    "from shapely.geometry import Point\n",
    "import os"
   ]
  },
  {
   "cell_type": "code",
   "execution_count": null,
   "id": "15238c12-ed84-4a35-ab6b-2a625b152144",
   "metadata": {},
   "outputs": [
    {
     "name": "stdout",
     "output_type": "stream",
     "text": [
      "✅ All six facility maps exported with custom titles and colors.\n"
     ]
    }
   ],
   "source": [
    "# Correspondence between file name and English title of function type\n",
    "function_dict = {\n",
    "    \"poi_by_function/siping_居住.csv\": \"Habitation\",\n",
    "    \"poi_by_function/siping_就业.csv\": \"Employment\",\n",
    "    \"poi_by_function/siping_商业.csv\": \"Commerce\",\n",
    "    \"poi_by_function/siping_医疗.csv\": \"Healthcare\",\n",
    "    \"poi_by_function/siping_教育.csv\": \"Education\",\n",
    "    \"poi_by_function/siping_休闲娱乐.csv\": \"Recreation\"\n",
    "}\n",
    "\n",
    "# colour scheme\n",
    "color_dict = {\n",
    "    \"poi_by_function/siping_居住.csv\": \"#F7C767\",       # Habitation\n",
    "    \"poi_by_function/siping_就业.csv\": \"#EB8445\",       # Employment\n",
    "    \"poi_by_function/siping_商业.csv\": \"#406BBC\",       # Commerce\n",
    "    \"poi_by_function/siping_医疗.csv\": \"#A4485E\",       # Healthcare\n",
    "    \"poi_by_function/siping_教育.csv\": \"#A6A056\",       # Education\n",
    "    \"poi_by_function/siping_休闲娱乐.csv\": \"#9CBCC6\"     # Recreation\n",
    "}\n",
    "\n",
    "# Automatic traversal of each file for plotting\n",
    "for file in function_dict.keys():\n",
    "    # Loading data\n",
    "    df = pd.read_csv(file)\n",
    "    \n",
    "    # create GeoDataFrame\n",
    "    gdf = gpd.GeoDataFrame(\n",
    "        df,\n",
    "        geometry=[Point(xy) for xy in zip(df['gcj_lng'], df['gcj_lat'])],\n",
    "        crs=\"EPSG:4326\"\n",
    "    )\n",
    "    \n",
    "    # Conversion to Mercator projection coordinates to fit the base map\n",
    "    gdf_web = gdf.to_crs(epsg=3857)\n",
    "    \n",
    "    # mapping\n",
    "    fig, ax = plt.subplots(figsize=(10, 10))\n",
    "    gdf_web.plot(\n",
    "        ax=ax,\n",
    "        color=color_dict[file],\n",
    "        markersize=5,\n",
    "        alpha=0.8,\n",
    "        label=function_dict[file]\n",
    "    )\n",
    "    \n",
    "    # Add OSM basemap\n",
    "    ctx.add_basemap(ax, source=ctx.providers.CartoDB.PositronNoLabels)\n",
    "    \n",
    "    # Title and Legend\n",
    "    ax.set_title(f\"{function_dict[file]} Facilities in Siping Subdistrict\", fontsize=15)\n",
    "    ax.set_axis_off()\n",
    "    plt.legend()\n",
    "\n",
    "    # Save as PNG file\n",
    "    out_file = file.replace(\".csv\", \"_map.png\")\n",
    "    plt.savefig(out_file, dpi=300, bbox_inches=\"tight\")\n",
    "    plt.close()\n",
    "\n",
    "print(\"✅ All six facility maps exported with custom titles and colors.\")"
   ]
  },
  {
   "cell_type": "code",
   "execution_count": null,
   "id": "dd71e037-1609-48c0-8f53-350d2f3a826e",
   "metadata": {},
   "outputs": [],
   "source": []
  }
 ],
 "metadata": {
  "kernelspec": {
   "display_name": "Python (base)",
   "language": "python",
   "name": "base"
  },
  "language_info": {
   "codemirror_mode": {
    "name": "ipython",
    "version": 3
   },
   "file_extension": ".py",
   "mimetype": "text/x-python",
   "name": "python",
   "nbconvert_exporter": "python",
   "pygments_lexer": "ipython3",
   "version": "3.11.9"
  }
 },
 "nbformat": 4,
 "nbformat_minor": 5
}
